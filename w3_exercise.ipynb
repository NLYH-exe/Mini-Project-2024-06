{
 "cells": [
  {
   "cell_type": "markdown",
   "id": "f89e2728348d9129",
   "metadata": {},
   "source": [
    "## Exercises\n",
    "\n",
    "1. Load and display the image 'dog.jfif'. Save the image in png format.\n",
    "2. *Suggest 2 ways and write codes to display 2 images simultaneously.* You can use any image snapped from your handphone, downloaded from internet or images from weekly materials on MS teams. The 2 images are original color image and its corresponding grayscale image.\n",
    "3. Write codes that performs the following:\n",
    "    * Load the video “img_pexels.mp4” into the Python environment, resize it and display the videos with smaller frames (The frames can be of any size, as long as it is smaller). You can specify an arbitrary frame rate.\n",
    "    * Save it as a separate files: “smaller_img_pexels.avi” or \"smaller_img_pexels.mp4\"\n",
    "4. Enlarge the image \"dog.jfif\" by using different techniques:\n",
    "    1) Linear interpolation\n",
    "   2) Cubic interpolation\n",
    "   3) Nearest neighbor interpolation.\n",
    "\n",
    "Perform profiling on each method. Comment on the **execution times** and **quality of resulting images**."
   ]
  },
  {
   "cell_type": "code",
   "execution_count": 1,
   "id": "40e148fb4bab2d24",
   "metadata": {
    "ExecuteTime": {
     "end_time": "2024-07-13T12:26:15.272552Z",
     "start_time": "2024-07-13T12:26:15.197531Z"
    }
   },
   "outputs": [],
   "source": [
    "import cv2 as cv\n",
    "import numpy as np"
   ]
  },
  {
   "cell_type": "code",
   "execution_count": 2,
   "id": "initial_id",
   "metadata": {
    "ExecuteTime": {
     "end_time": "2024-07-13T12:26:20.532425Z",
     "start_time": "2024-07-13T12:26:16.755402Z"
    },
    "collapsed": true
   },
   "outputs": [
    {
     "data": {
      "text/plain": [
       "True"
      ]
     },
     "execution_count": 2,
     "metadata": {},
     "output_type": "execute_result"
    }
   ],
   "source": [
    "# Question 1\n",
    "img = cv.imread('images/dog.jfif')\n",
    "cv.imshow('original', img)\n",
    "cv.waitKey(0)\n",
    "cv.destroyAllWindows()\n",
    "cv.imwrite('images/dog.png', img)"
   ]
  },
  {
   "cell_type": "code",
   "execution_count": 3,
   "id": "af0ab0d52488ec25",
   "metadata": {
    "ExecuteTime": {
     "end_time": "2024-07-13T12:26:28.390390Z",
     "start_time": "2024-07-13T12:26:26.556971Z"
    }
   },
   "outputs": [],
   "source": [
    "# Question 2\n",
    "\n",
    "img = cv.imread('images/dog.jfif', 1)\n",
    "img_gray = cv.imread('images/dog.jfif', 0)\n",
    "cv.imshow('original', img)\n",
    "cv.imshow('grayscale', img_gray)\n",
    "cv.waitKey(0)\n",
    "cv.destroyAllWindows()\n",
    "img_gray_3ch = cv.cvtColor(img_gray, cv.COLOR_GRAY2BGR)\n",
    "img_concat = np.concatenate((img, img_gray_3ch), axis=1)\n",
    "cv.imshow('Attached images', img_concat)\n",
    "cv.waitKey(0)\n",
    "cv.destroyAllWindows()"
   ]
  },
  {
   "cell_type": "code",
   "execution_count": 4,
   "id": "614b65fec3c87f30",
   "metadata": {
    "ExecuteTime": {
     "end_time": "2024-07-13T12:26:38.745219Z",
     "start_time": "2024-07-13T12:26:28.982432Z"
    }
   },
   "outputs": [
    {
     "name": "stdout",
     "output_type": "stream",
     "text": [
      "Can't receive frame\n"
     ]
    }
   ],
   "source": [
    "# Question 3\n",
    "\n",
    "cap = cv.VideoCapture('videos/img_pexels.mp4')\n",
    "\n",
    "if not cap.isOpened():\n",
    "    raise Exception(\"No video detected\")\n",
    "\n",
    "while cap.isOpened():\n",
    "    ret, frame = cap.read()\n",
    "\n",
    "    if not ret:\n",
    "        print(\"Can't receive frame\")\n",
    "        break\n",
    "\n",
    "    frame2 = cv.resize(frame, None, fx=0.5, fy=0.5, interpolation=cv.INTER_LINEAR)\n",
    "\n",
    "    cv.imshow('frame', frame2)\n",
    "    if cv.waitKey(1) & 0xFF == 27:\n",
    "        break\n",
    "\n",
    "cv.destroyAllWindows()\n",
    "\n",
    "\n",
    "fps = cap.get(cv.CAP_PROP_FPS)\n",
    "fourcc = cv.VideoWriter_fourcc(*'MP4V')\n",
    "out = cv.VideoWriter('videos/smaller_img_pexels.mp4', fourcc, fps, (540, 960))\n",
    "\n",
    "while cap.isOpened():\n",
    "    ret, frame = cap.read()\n",
    "\n",
    "    if not ret:\n",
    "        print(\"Can't receive frame\")\n",
    "        break\n",
    "\n",
    "    frame2 = cv.resize(frame, None, fx=0.5, fy=0.5, interpolation=cv.INTER_LINEAR)\n",
    "\n",
    "    out.write(frame2)\n",
    "\n",
    "cap.release()\n",
    "out.release()"
   ]
  },
  {
   "cell_type": "code",
   "execution_count": 9,
   "id": "d95251117fc7c90a",
   "metadata": {
    "ExecuteTime": {
     "end_time": "2024-07-13T12:28:47.812112Z",
     "start_time": "2024-07-13T12:28:47.137894Z"
    }
   },
   "outputs": [
    {
     "name": "stdout",
     "output_type": "stream",
     "text": [
      "Linear Interpolation took 1.004457474 milliseconds\n",
      "Cubic Interpolation took 2.000808716 milliseconds\n",
      "Nearest Neighbor Interpolation took 0.999689102 milliseconds\n"
     ]
    }
   ],
   "source": [
    "import time\n",
    "\n",
    "image = cv.imread('images/dog.jfif')\n",
    "\n",
    "new_width = 3000\n",
    "new_height = 1680\n",
    "\n",
    "\n",
    "def resize_and_profile(img, interpolation, method):\n",
    "    start_time = time.time()\n",
    "    resized_img = cv.resize(img, (new_width, new_height), interpolation=interpolation)\n",
    "    end_time = time.time()\n",
    "    print(f\"{method} took {(end_time - start_time) * 1000:.9f} milliseconds\")\n",
    "    return resized_img\n",
    "\n",
    "\n",
    "resized_linear = resize_and_profile(image, cv.INTER_LINEAR, \"Linear Interpolation\")\n",
    "resized_cubic = resize_and_profile(image, cv.INTER_CUBIC, \"Cubic Interpolation\")\n",
    "resized_nearest = resize_and_profile(image, cv.INTER_NEAREST, \"Nearest Neighbor Interpolation\")\n",
    "cv.imshow('Linear Interpolation', resized_linear)\n",
    "cv.imshow('Cubic Interpolation', resized_cubic)\n",
    "cv.imshow('Nearest Neighbor Interpolation', resized_nearest)\n",
    "cv.waitKey(0)\n",
    "cv.destroyAllWindows()"
   ]
  },
  {
   "cell_type": "code",
   "execution_count": null,
   "id": "8147da5b0766287e",
   "metadata": {},
   "outputs": [],
   "source": []
  }
 ],
 "metadata": {
  "kernelspec": {
   "display_name": "Python 3 (ipykernel)",
   "language": "python",
   "name": "python3"
  },
  "language_info": {
   "codemirror_mode": {
    "name": "ipython",
    "version": 3
   },
   "file_extension": ".py",
   "mimetype": "text/x-python",
   "name": "python",
   "nbconvert_exporter": "python",
   "pygments_lexer": "ipython3",
   "version": "3.11.4"
  }
 },
 "nbformat": 4,
 "nbformat_minor": 5
}
